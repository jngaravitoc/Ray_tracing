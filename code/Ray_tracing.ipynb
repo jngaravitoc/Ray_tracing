{
 "cells": [
  {
   "cell_type": "code",
   "execution_count": 1,
   "metadata": {
    "collapsed": false
   },
   "outputs": [
    {
     "name": "stdout",
     "output_type": "stream",
     "text": [
      "Using matplotlib backend: TkAgg\n",
      "Populating the interactive namespace from numpy and matplotlib\n"
     ]
    }
   ],
   "source": [
    "%pylab \n",
    "from mpl_toolkits.mplot3d import Axes3D\n",
    "import matplotlib.pyplot as plt"
   ]
  },
  {
   "cell_type": "code",
   "execution_count": 2,
   "metadata": {
    "collapsed": false
   },
   "outputs": [],
   "source": [
    "#halos = loadtxt(\"../data/Illsutris1_snap45_z6_halo_catalogue.txt\")\n",
    "halos = loadtxt(\"../data/Illsutris_snap45_z6_halo_catalogue.txt\")"
   ]
  },
  {
   "cell_type": "code",
   "execution_count": 3,
   "metadata": {
    "collapsed": false
   },
   "outputs": [
    {
     "name": "stdout",
     "output_type": "stream",
     "text": [
      "N halos =  44196\n",
      "330.50123\n"
     ]
    }
   ],
   "source": [
    "h = 0.7\n",
    "Ids = halos[:,0]\n",
    "X = halos[:,1] / h\n",
    "Y = halos[:,2] / h\n",
    "Z = halos[:,3] / h\n",
    "m = halos[:,7]\n",
    "r = halos[:,8] / h\n",
    "print \"N halos = \", len(X)\n",
    "print max(r)"
   ]
  },
  {
   "cell_type": "code",
   "execution_count": 4,
   "metadata": {
    "collapsed": false
   },
   "outputs": [],
   "source": [
    "def bpc(ids, x, y, z, M, R):\n",
    "    L = 75000  / h\n",
    "    region1 = where(x<10000)\n",
    "    ids1 = ids[region1]\n",
    "    x1 = x[region1] + L\n",
    "    y1 = y[region1]\n",
    "    z1 = z[region1] \n",
    "    M1 = M[region1]\n",
    "    R1 = R[region1]\n",
    "    \n",
    "    region2 = where(x>(L-10000))\n",
    "    ids2 = ids[region2]\n",
    "    x2 = x[region2] - L \n",
    "    y2 = y[region2]\n",
    "    z2 = z[region2] \n",
    "    M2 = M[region2]\n",
    "    R2 = R[region2]\n",
    "    \n",
    "    region3 = where(y<10000)\n",
    "    \n",
    "    ids3 = ids[region3] \n",
    "    x3 = x[region3] \n",
    "    y3 = y[region3] + L\n",
    "    z3 = z[region3] \n",
    "    M3 = M[region3]\n",
    "    R3 = R[region3]\n",
    "    \n",
    "    region4 = where(y>(L-10000))\n",
    "    \n",
    "    ids4 = ids[region4] \n",
    "    x4 = x[region4] \n",
    "    y4 = y[region4] - L\n",
    "    z4 = z[region4] \n",
    "    M4 = M[region4]\n",
    "    R4 = R[region4]\n",
    "    \n",
    "    region5 = where(z<10000)\n",
    "    \n",
    "    ids5 = ids[region5] \n",
    "    x5 = x[region5] \n",
    "    y5 = y[region5] \n",
    "    z5 = z[region5] + L\n",
    "    M5 = M[region5]\n",
    "    R5 = R[region5]\n",
    "    \n",
    "    region6 = where(z>(L-10000))\n",
    "    \n",
    "    ids6 = ids[region6] \n",
    "    x6 = x[region6] \n",
    "    y6 = y[region6] \n",
    "    z6 = z[region6] - L\n",
    "    M6 = M[region6]\n",
    "    R6 = R[region6]\n",
    "    \n",
    "    region7 = where( (x>L-10000) & (y>L-10000))\n",
    "    \n",
    "    region8 = where( (x>L-10000) & (y<10000))\n",
    "    \n",
    "    region9 = where( (x<10000) & (y<10000))\n",
    "    \n",
    "    region10 = where( (x<10000) & (y> L-10000) )\n",
    "    \n",
    "    N = len(x) + len(region1[0]) + len(region2[0]) + len(region3[0]) + len(region4[0]) + len(region5[0]) + len(region6[0])\n",
    "    id_new = zeros(N)\n",
    "    x_new = zeros(N)\n",
    "    y_new = zeros(N)\n",
    "    z_new = zeros(N)\n",
    "    M_new = zeros(N)\n",
    "    R_new = zeros(N)\n",
    "    \n",
    "    N1 = len(x) + len(region1[0])\n",
    "    N2 = len(x) + len(region1[0]) + len(region2[0])\n",
    "    N3 = len(x) + len(region1[0]) + len(region2[0]) + len(region3[0])\n",
    "    N4 = len(x) + len(region1[0]) + len(region2[0]) + len(region3[0]) + len(region4[0])\n",
    "    N5 = len(x) + len(region1[0]) + len(region2[0]) + len(region3[0]) + len(region4[0]) + len(region5[0])\n",
    "    N6 = len(x) + len(region1[0]) + len(region2[0]) + len(region3[0]) + len(region4[0]) + len(region5[0]) + len(region6[0])\n",
    "\n",
    "    for i in range(len(x)):\n",
    "        id_new[i] = ids[i]\n",
    "        x_new[i] = x[i]\n",
    "        y_new[i] = y[i]\n",
    "        z_new[i] = z[i]\n",
    "        M_new[i] = M[i]\n",
    "        R_new[i] = R[i]\n",
    "        \n",
    "    for i in range(len(x), N1):\n",
    "        id_new[i] = ids1[i-len(x)]\n",
    "        x_new[i] = x1[i-len(x)]\n",
    "        y_new[i] = y1[i-len(x)]\n",
    "        z_new[i] = z1[i-len(x)]\n",
    "        M_new[i] = M1[i-len(x)]\n",
    "        R_new[i] = R1[i-len(x)]\n",
    "    \n",
    "    for i in range(N1, N2):\n",
    "        id_new[i] = ids2[i - N1]\n",
    "        x_new[i] = x2[i- N1]\n",
    "        y_new[i] = y2[i- N1]\n",
    "        z_new[i] = z2[i- N1]\n",
    "        M_new[i] = M2[i- N1]\n",
    "        R_new[i] = R2[i- N1]\n",
    "        \n",
    "    for i in range(N2, N3):\n",
    "        id_new[i] = ids3[i-N2]\n",
    "        x_new[i] = x3[i-N2]\n",
    "        y_new[i] = y3[i-N2]\n",
    "        z_new[i] = z3[i-N2]\n",
    "        M_new[i] = M3[i-N2]\n",
    "        R_new[i] = R3[i-N2]\n",
    "    \n",
    "    for i in range(N3, N4):\n",
    "        id_new[i] = ids4[i-N3]\n",
    "        x_new[i] = x4[i-N3]\n",
    "        y_new[i] = y4[i-N3]\n",
    "        z_new[i] = z4[i-N3]\n",
    "        M_new[i] = M4[i-N3]\n",
    "        R_new[i] = R4[i-N3]\n",
    "        \n",
    "    for i in range(N4, N5):\n",
    "        id_new[i] = ids5[i-N4]\n",
    "        x_new[i] = x5[i-N4]\n",
    "        y_new[i] = y5[i-N4]\n",
    "        z_new[i] = z5[i-N4]\n",
    "        M_new[i] = M5[i-N4]\n",
    "        R_new[i] = R5[i-N4]\n",
    "        \n",
    "    for i in range(N5, N6):\n",
    "        id_new[i] = ids6[i-N5]\n",
    "        x_new[i] = x6[i-N5]\n",
    "        y_new[i] = y6[i-N5]\n",
    "        z_new[i] = z6[i-N5]\n",
    "        M_new[i] = M6[i-N5]\n",
    "        R_new[i] = R6[i-N5]\n",
    "        \n",
    "    return id_new, x_new, y_new, z_new, M_new, R_new"
   ]
  },
  {
   "cell_type": "code",
   "execution_count": 5,
   "metadata": {
    "collapsed": false
   },
   "outputs": [],
   "source": [
    "ids, x, y, z, M, R = bpc(Ids, X, Y, Z, m, r)"
   ]
  },
  {
   "cell_type": "code",
   "execution_count": 6,
   "metadata": {
    "collapsed": false
   },
   "outputs": [],
   "source": [
    "def host_halos(M, x, y, z, ids):\n",
    "    host_halo = where( (M<20) & (M>7))\n",
    "    M_hh = M[host_halo]\n",
    "    x_hh = x[host_halo]\n",
    "    y_hh = y[host_halo]\n",
    "    z_hh = z[host_halo]\n",
    "    id_hh = ids[host_halo]\n",
    "    return id_hh, x_hh, y_hh, z_hh"
   ]
  },
  {
   "cell_type": "code",
   "execution_count": 7,
   "metadata": {
    "collapsed": true
   },
   "outputs": [],
   "source": [
    "def random_halo(id_hh, x, y, z):\n",
    "    N = len(id_hh)\n",
    "    ran_halo = randint(0, N)\n",
    "    id_h = id_hh[ran_halo]\n",
    "    x_h = x[ran_halo]\n",
    "    y_h = y[ran_halo]\n",
    "    z_h = z[ran_halo]\n",
    "    return x_h, y_h, z_h "
   ]
  },
  {
   "cell_type": "code",
   "execution_count": 8,
   "metadata": {
    "collapsed": false
   },
   "outputs": [],
   "source": [
    "def selecting_halos(x_in, y_in, z_in, r, x, y, z, R, M):\n",
    "    x_max = x_in + r\n",
    "    x_min = x_in - r\n",
    "    y_max = y_in + r\n",
    "    y_min = y_in - r\n",
    "    z_max = z_in + r\n",
    "    z_min = z_in - r\n",
    "    cube = where( (x < x_max) & (x > x_min) & ( y < y_max )  & ( y > y_min) & (z < z_max ) & (z > z_min))\n",
    "    \n",
    "    x_cube = x[cube]\n",
    "    y_cube = y[cube]\n",
    "    z_cube = z[cube]\n",
    "    R_cube = R[cube]\n",
    "    M_cube = M[cube]\n",
    "      \n",
    "    return x_cube, y_cube, z_cube, R_cube, M_cube"
   ]
  },
  {
   "cell_type": "code",
   "execution_count": 9,
   "metadata": {
    "collapsed": true
   },
   "outputs": [],
   "source": [
    "def random_direction(x, y, z, r):\n",
    "    cos_ran = 2.0*random.random()-1.0\n",
    "    sin_ran = sqrt(1.0-cos_ran**2)\n",
    "    phi_ran = 2.0*np.pi*random.random()\n",
    "    x_end = r*sin_ran*cos(phi_ran)\n",
    "    y_end = r*sin_ran*sin(phi_ran)\n",
    "    z_end = r*cos_ran\n",
    "    x_out = x + x_end\n",
    "    y_out = y + y_end\n",
    "    z_out = z + z_end\n",
    "    return x_out, y_out, z_out"
   ]
  },
  {
   "cell_type": "code",
   "execution_count": 14,
   "metadata": {
    "collapsed": false
   },
   "outputs": [],
   "source": [
    "def impact_parameter(x, y, z, L, x_in, y_in, z_in, R, M, x_out, y_out, z_out):\n",
    "    d = sqrt((x - x_in)**2 + (y - y_in)**2 + (z - z_in)**2)\n",
    "    dot_product = (x-x_in ) * (x_out - x_in) + (y -y_in)*(y_out - y_in) + (z - z_in)* (z_out - z_in)\n",
    "    a_mag = L\n",
    "    b_mag = d\n",
    "    costheta = dot_product / (a_mag * b_mag)\n",
    "    theta = arccos(costheta) \n",
    "    b = sin(theta)*d\n",
    "    absorbers = where( (b<R) & (dot_product>0))\n",
    "    b_abs = b[absorbers]\n",
    "    x_abs = x[absorbers]\n",
    "    y_abs = y[absorbers]\n",
    "    z_abs = z[absorbers]\n",
    "    R_abs = R[absorbers]\n",
    "    M_abs = M[absorbers]\n",
    "    Vol = 4 / 3. * pi * R_abs**3\n",
    "    rho =  M_abs / Vol\n",
    "    return b_abs, x_abs, y_abs, z_abs, R_abs, rho"
   ]
  },
  {
   "cell_type": "code",
   "execution_count": 15,
   "metadata": {
    "collapsed": false
   },
   "outputs": [
    {
     "name": "stdout",
     "output_type": "stream",
     "text": [
      "542\n"
     ]
    }
   ],
   "source": [
    "idsh, x_hh, y_hh, z_hh = host_halos(m, X, Y, Z, Ids)\n",
    "print len(x_hh)"
   ]
  },
  {
   "cell_type": "code",
   "execution_count": 46,
   "metadata": {
    "collapsed": false
   },
   "outputs": [
    {
     "name": "stdout",
     "output_type": "stream",
     "text": [
      "63822.8348214 10913.5323657 2877.28480714\n"
     ]
    }
   ],
   "source": [
    "x_in, y_in, z_in = random_halo(idsh, x_hh, y_hh, z_hh)\n",
    "print x_in, y_in, z_in"
   ]
  },
  {
   "cell_type": "code",
   "execution_count": 47,
   "metadata": {
    "collapsed": false
   },
   "outputs": [
    {
     "name": "stdout",
     "output_type": "stream",
     "text": [
      "344\n"
     ]
    }
   ],
   "source": [
    "x_cube, y_cube, z_cube, R_cube, M_cube = selecting_halos(x_in, y_in, z_in, 10000, x, y, z, R, M)\n",
    "print len(x_cube)"
   ]
  },
  {
   "cell_type": "code",
   "execution_count": 48,
   "metadata": {
    "collapsed": false,
    "scrolled": true
   },
   "outputs": [
    {
     "name": "stderr",
     "output_type": "stream",
     "text": [
      "/usr/local/lib/python2.7/dist-packages/IPython/kernel/__main__.py:6: RuntimeWarning: invalid value encountered in divide\n",
      "/usr/local/lib/python2.7/dist-packages/IPython/kernel/__main__.py:9: RuntimeWarning: invalid value encountered in less\n"
     ]
    }
   ],
   "source": [
    "x_out, y_out, z_out = random_direction(x_in, y_in, z_in, 10000)\n",
    "babs, xabs, yabs, zabs, R_abs, rho_abs = impact_parameter(x_cube, y_cube, z_cube, 10000., x_in, y_in, z_in, R_cube, M_cube, x_in , y_in, z_in + 10000)"
   ]
  },
  {
   "cell_type": "code",
   "execution_count": 49,
   "metadata": {
    "collapsed": false
   },
   "outputs": [
    {
     "name": "stdout",
     "output_type": "stream",
     "text": [
      "[  5.22937447e-07]\n"
     ]
    }
   ],
   "source": [
    "print rho_abs"
   ]
  },
  {
   "cell_type": "code",
   "execution_count": 185,
   "metadata": {
    "collapsed": false
   },
   "outputs": [
    {
     "name": "stderr",
     "output_type": "stream",
     "text": [
      "/usr/local/lib/python2.7/dist-packages/IPython/kernel/__main__.py:6: RuntimeWarning: invalid value encountered in divide\n",
      "/usr/local/lib/python2.7/dist-packages/IPython/kernel/__main__.py:9: RuntimeWarning: invalid value encountered in less\n"
     ]
    }
   ],
   "source": [
    "N_absorbers = []\n",
    "idsh, x_hh, y_hh, z_hh = host_halos(m, X, Y, Z, Ids)\n",
    "for i in range(30):\n",
    "    x_in, y_in, z_in = random_halo(idsh, x_hh, y_hh, z_hh)\n",
    "    x_cube, y_cube, z_cube, R_cube, M_cube = selecting_halos(x_in, y_in, z_in, 10000, x, y, z, R, M)\n",
    "    #print x_in, y_in, z_in\n",
    "    N = zeros(100)\n",
    "    for j in range(100):\n",
    "        x_out, y_out, z_out = random_direction(x_in, y_in, z_in, 10000)\n",
    "        #print x_out, y_out, z_out\n",
    "        babs, xabs, yabs, zabs, R_abs = impact_parameter(x_cube, y_cube, z_cube, 10000., x_in, y_in, z_in, R_cube, M_cube, x_out, y_out, z_out)\n",
    "        N[j] = len(xabs)\n",
    "    N_absorbers.append(mean(N))\n"
   ]
  },
  {
   "cell_type": "code",
   "execution_count": 186,
   "metadata": {
    "collapsed": false
   },
   "outputs": [
    {
     "name": "stdout",
     "output_type": "stream",
     "text": [
      "[0.17000000000000001, 0.20000000000000001, 0.25, 0.19, 0.38, 0.26000000000000001, 0.33000000000000002, 0.20999999999999999, 0.28000000000000003, 0.26000000000000001, 0.17999999999999999, 0.22, 0.23000000000000001, 0.27000000000000002, 0.27000000000000002, 0.23000000000000001, 0.35999999999999999, 0.28000000000000003, 0.29999999999999999, 0.27000000000000002, 0.32000000000000001, 0.32000000000000001, 0.33000000000000002, 0.27000000000000002, 0.32000000000000001, 0.14000000000000001, 0.14000000000000001, 0.41999999999999998, 0.26000000000000001, 0.26000000000000001]\n"
     ]
    }
   ],
   "source": [
    "print N_absorbers"
   ]
  },
  {
   "cell_type": "code",
   "execution_count": 188,
   "metadata": {
    "collapsed": false
   },
   "outputs": [],
   "source": [
    "plot(N_absorbers, c='k')\n",
    "title(\"$\\mathrm{Illustris\\ 1}$\", fontsize=25)\n",
    "axhline(mean(N_absorbers), lw=2)\n",
    "ylabel(\"$\\mathrm{Average\\ number\\ of\\ absorbers\\ for\\ a\\ given\\ emitter\\ halo }$\", fontsize=15)\n",
    "xlabel(\"$\\mathrm{Emiter\\ halo}$\", fontsize=15)\n",
    "savefig(\"../figures/Ill1NofAbsorbers.png\", bbox_inches='tight')"
   ]
  },
  {
   "cell_type": "code",
   "execution_count": 210,
   "metadata": {
    "collapsed": false
   },
   "outputs": [
    {
     "name": "stdout",
     "output_type": "stream",
     "text": [
      "1 735\n",
      "[ 102.51052888] [ 125.18637571]\n"
     ]
    }
   ],
   "source": [
    "print len(xabs), len(x_cube)\n",
    "print babs, R_abs"
   ]
  },
  {
   "cell_type": "code",
   "execution_count": 23,
   "metadata": {
    "collapsed": false
   },
   "outputs": [
    {
     "data": {
      "text/plain": [
       "<mpl_toolkits.mplot3d.art3d.Patch3DCollection at 0x7f214a0f2a10>"
      ]
     },
     "execution_count": 23,
     "metadata": {},
     "output_type": "execute_result"
    }
   ],
   "source": [
    "fig = plt.figure()\n",
    "ax = fig.add_subplot(111, projection='3d')\n",
    "ax.scatter(x_cube, y_cube, z_cube, c = 'k', s=1)\n",
    "ax.scatter(x_in, y_in, z_in, s=80)\n",
    "ax.scatter(x_out, y_out, z_out, s=80, c='r')\n",
    "ax.scatter(xabs, yabs, zabs, c='g', s=80)"
   ]
  },
  {
   "cell_type": "code",
   "execution_count": 145,
   "metadata": {
    "collapsed": false
   },
   "outputs": [],
   "source": [
    "x = [0, -1, 3]\n",
    "y = [0, -3, 0]"
   ]
  },
  {
   "cell_type": "code",
   "execution_count": 146,
   "metadata": {
    "collapsed": false
   },
   "outputs": [
    {
     "data": {
      "text/plain": [
       "(-4, 4)"
      ]
     },
     "execution_count": 146,
     "metadata": {},
     "output_type": "execute_result"
    }
   ],
   "source": [
    "plot(x[0:2], y[0:2])\n",
    "x.pop(1)\n",
    "y.pop(1)\n",
    "plot(x, y)\n",
    "ylim(-3, 4)\n",
    "xlim(-4, 4)"
   ]
  },
  {
   "cell_type": "code",
   "execution_count": 147,
   "metadata": {
    "collapsed": false
   },
   "outputs": [
    {
     "name": "stdout",
     "output_type": "stream",
     "text": [
      "-3\n",
      "108.434948823 3.0\n"
     ]
    }
   ],
   "source": [
    "x = [0, -1, 3]\n",
    "y = [0, -3, 0]\n",
    "\n",
    "dp = x[1]*x[2] + y[1]*y[2]\n",
    "d1 = sqrt(x[1]**2 + y[1]**2)\n",
    "d2 = sqrt(x[2]**2 + y[2]**2)\n",
    "\n",
    "print dp\n",
    "\n",
    "costheta = dp / (d1*d2) \n",
    "theta = arccos(costheta)\n",
    "b = sin(theta)*d1\n",
    "print theta*180 / pi, b"
   ]
  },
  {
   "cell_type": "code",
   "execution_count": 172,
   "metadata": {
    "collapsed": false
   },
   "outputs": [
    {
     "data": {
      "text/plain": [
       "<matplotlib.collections.PathCollection at 0x7fe9da8b0910>"
      ]
     },
     "execution_count": 172,
     "metadata": {},
     "output_type": "execute_result"
    }
   ],
   "source": [
    "x = linspace(0, 10, 100)\n",
    "z = zeros(100) + 3*(2*random.random(100)-1)\n",
    "z[0] = 0\n",
    "y = zeros(100)\n",
    "R = zeros(100) + 2\n",
    "M = ones(100)\n",
    "scatter(x, z)"
   ]
  },
  {
   "cell_type": "code",
   "execution_count": 173,
   "metadata": {
    "collapsed": true
   },
   "outputs": [],
   "source": [
    "d = sqrt(x[-1]**2 + z[-1]**2)"
   ]
  },
  {
   "cell_type": "code",
   "execution_count": 174,
   "metadata": {
    "collapsed": false
   },
   "outputs": [
    {
     "name": "stderr",
     "output_type": "stream",
     "text": [
      "/usr/local/lib/python2.7/dist-packages/IPython/kernel/__main__.py:6: RuntimeWarning: invalid value encountered in divide\n",
      "/usr/local/lib/python2.7/dist-packages/IPython/kernel/__main__.py:9: RuntimeWarning: invalid value encountered in less\n"
     ]
    }
   ],
   "source": [
    "babs, xabs, yabs, zabs, R_abs = impact_parameter(x, y, z, d, x[0], 0, 0, R, M, x[-1] , 0, z[-1])"
   ]
  },
  {
   "cell_type": "code",
   "execution_count": 175,
   "metadata": {
    "collapsed": false
   },
   "outputs": [
    {
     "name": "stdout",
     "output_type": "stream",
     "text": [
      "61 10.023086548\n"
     ]
    }
   ],
   "source": [
    "print len(babs), d"
   ]
  },
  {
   "cell_type": "code",
   "execution_count": 176,
   "metadata": {
    "collapsed": false
   },
   "outputs": [
    {
     "data": {
      "text/plain": [
       "<matplotlib.collections.PathCollection at 0x7fe9da785690>"
      ]
     },
     "execution_count": 176,
     "metadata": {},
     "output_type": "execute_result"
    }
   ],
   "source": [
    "scatter(xabs, zabs, c='b', alpha=0.5)\n",
    "scatter(x, z, c='k', s=1)\n",
    "scatter(x[-1], z[-1], c='r', marker='*', s=120)\n",
    "scatter(x[0], z[0], c='y', marker='*', s=120)\n",
    "#savefig(\"test4.png\", bbox_inches='tight')"
   ]
  },
  {
   "cell_type": "code",
   "execution_count": 139,
   "metadata": {
    "collapsed": false
   },
   "outputs": [
    {
     "name": "stdout",
     "output_type": "stream",
     "text": [
      "-2.66362367963\n"
     ]
    }
   ],
   "source": [
    "print y[-1]"
   ]
  },
  {
   "cell_type": "code",
   "execution_count": null,
   "metadata": {
    "collapsed": true
   },
   "outputs": [],
   "source": []
  }
 ],
 "metadata": {
  "kernelspec": {
   "display_name": "Python 2",
   "language": "python",
   "name": "python2"
  },
  "language_info": {
   "codemirror_mode": {
    "name": "ipython",
    "version": 2
   },
   "file_extension": ".py",
   "mimetype": "text/x-python",
   "name": "python",
   "nbconvert_exporter": "python",
   "pygments_lexer": "ipython2",
   "version": "2.7.6"
  }
 },
 "nbformat": 4,
 "nbformat_minor": 0
}
