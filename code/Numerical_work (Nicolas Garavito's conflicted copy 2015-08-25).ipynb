{
 "cells": [
  {
   "cell_type": "markdown",
   "metadata": {},
   "source": [
    "# to do:\n",
    "\n",
    "1. Put rvir inside the first functrions in the gas profile, is really anoying to change rvir by hand everytime!"
   ]
  },
  {
   "cell_type": "markdown",
   "metadata": {
    "collapsed": true,
    "slideshow": {
     "slide_type": "slide"
    }
   },
   "source": [
    "$\\rho_g(r) = \\rho_{g0} e ^{-27b/2}\\left(1 + \\dfrac{r}{r_s}\\right)^{27b/(2r/r_s)}$ (1)\n",
    "\n",
    "\n",
    "$\\rho_{g0} = \\dfrac{f_{gas}\\Omega_b \\rho_{c0}\\delta_c}{\\Omega_0} e ^{27b/2} \\left[ ln(1+c) - \\dfrac{c}{1+c} \\right] \\times \\left[ \\int_{0}^{c} x^2 (1+x)^{27b/2x} dx\\right]^{-1} $\n",
    "\n",
    "$\\rho_{g}(r) = \\dfrac{\\rho_{g0 A(b)}}{[1+(r/r_{c,eff})^2]^{3\\beta_{eff}/2}}$ (2)\n"
   ]
  },
  {
   "cell_type": "code",
   "execution_count": 1,
   "metadata": {
    "collapsed": false,
    "slideshow": {
     "slide_type": "-"
    }
   },
   "outputs": [
    {
     "name": "stdout",
     "output_type": "stream",
     "text": [
      "Populating the interactive namespace from numpy and matplotlib\n"
     ]
    },
    {
     "name": "stderr",
     "output_type": "stream",
     "text": [
      "/usr/local/lib/python2.7/dist-packages/IPython/kernel/__init__.py:13: ShimWarning: The `IPython.kernel` package has been deprecated. You should import from ipykernel or jupyter_client instead.\n",
      "  \"You should import from ipykernel or jupyter_client instead.\", ShimWarning)\n"
     ]
    }
   ],
   "source": [
    "%pylab inline\n",
    "from scipy.integrate import quad\n",
    "import os\n",
    "from scipy.special import gamma\n",
    "from scipy import integrate\n",
    "from astropy import units as u"
   ]
  },
  {
   "cell_type": "markdown",
   "metadata": {
    "slideshow": {
     "slide_type": "slide"
    }
   },
   "source": [
    "Computation of the gas density profiles. This computations is divided in two main approaches.\n",
    "In the first one we compute $\\rho_g(r)$ folowing Makino et al 98. In that work they derive \n",
    "An expresion for the gas density from a NFW profile Eq.1. They also found function that fits \n",
    "very well this profile eq.2"
   ]
  },
  {
   "cell_type": "markdown",
   "metadata": {
    "slideshow": {
     "slide_type": "slide"
    }
   },
   "source": [
    "In order to compute this profiles we choose all in units of grams and cm.\n",
    "\n",
    "$z = 0$\n",
    "\n",
    "$b = 0.7$\n",
    "\n",
    "$c = 3.75$\n",
    "\n",
    "$f_{gas} = 1$\n",
    "\n",
    "$\\Omega_0 = 0.32$\n",
    "\n",
    "$\\Omega_b = 0.04967$\n",
    "\n",
    "$G = 6.67E-8$ [$cm^3/(gs^2)$]\n",
    "\n",
    "$H_0 = 2.19E-18$ [1/s]\n",
    "\n",
    "$r_{vir} = 118 kpc$\n",
    "\n",
    "$\\beta = 0.9b$\n",
    "\n",
    "\n",
    "$\\delta_c = \\dfrac{200}{3}(\\dfrac{c^3}{(log(1+c) - c/(1+c))})$"
   ]
  },
  {
   "cell_type": "code",
   "execution_count": 2,
   "metadata": {
    "collapsed": false,
    "slideshow": {
     "slide_type": "-"
    }
   },
   "outputs": [],
   "source": [
    "b = 0.7\n",
    "A = -0.178*b + 0.982\n",
    "beta = 0.9*b\n",
    "r_vir = 118 #kpc This comes from a Mass of 1E12 M_sun and at z=2\n",
    "#r_vir = 1.67  # 1E8M_sun, z=6\n",
    "H_0 = 70.0 # km/s.Mpc\n",
    "def constants():\n",
    "    b = 0.7\n",
    "    A = -0.178*b + 0.982\n",
    "    beta = 0.9*b\n",
    "    r_vir = 118*u.kpc #kpc\n",
    "    c = 3.75\n",
    "    r_s = r_vir/c\n",
    "    return b, A, c"
   ]
  },
  {
   "cell_type": "markdown",
   "metadata": {
    "slideshow": {
     "slide_type": "slide"
    }
   },
   "source": [
    "##  Code to make the integral of $\\rho_{g0}$"
   ]
  },
  {
   "cell_type": "code",
   "execution_count": 3,
   "metadata": {
    "collapsed": false,
    "slideshow": {
     "slide_type": "slide"
    }
   },
   "outputs": [
    {
     "name": "stdout",
     "output_type": "stream",
     "text": [
      "The value of integral at c = 3.75:  2419.94935626\n"
     ]
    },
    {
     "data": {
      "text/plain": [
       "1.3753680168150579e-25"
      ]
     },
     "execution_count": 3,
     "metadata": {},
     "output_type": "execute_result"
    }
   ],
   "source": [
    "def H(z, Omega0, H_0):\n",
    "    Lambda0 = 1. - Omega0\n",
    "    return H_0*(Omega0*(1+z)**3 - (Omega0+Lambda0-1)*(1+z)**2 + Lambda0)**0.5\n",
    "\n",
    "def Omega_z(z,Omega0, H_0):\n",
    "    return Omega0 * (1+z)**3 * (H_0/H(z,Omega0, H_0))**2\n",
    "\n",
    "def model(x):\n",
    "    b = 0.7\n",
    "    return x**2 * ( (1+x)**(27*b/(2.*x)) )\n",
    "\n",
    "\n",
    "def integral(c):\n",
    "    x = linspace(0, c, 100)\n",
    "    integral_scipy,err = quad(model, 0, c)\n",
    "    return integral_scipy\n",
    "\n",
    "print \"The value of integral at c = 3.75: \", integral(3.75)\n",
    "\n",
    "def rho_g0(zform):\n",
    "    b = 0.7\n",
    "    f_gas = 1.\n",
    "    Omega_m = 0.32\n",
    "    Omega_b = 0.022/(0.67**2)\n",
    "    H_0 = 2.19E-18 #1/s\n",
    "    G = 6.67E-8 # \n",
    "    rho_c = 3*H_0**2 / (8.*np.pi*G)\n",
    "    c = 3.75\n",
    "    #zform = 6.\n",
    "    d_c = 3000.0 * Omega_m * (1 + zform)**3\n",
    "    #d_c = 200/3. * (c**3 / (log(1 + c) - c/(1+c)))\n",
    "    return ( ( (f_gas * d_c * rho_c * Omega_b) / Omega_m ) * exp(27. * b / 2.) * (log(1+c) - c/(1+c)) )  /  integral(c)\n",
    "\n",
    "rho_g0(2)"
   ]
  },
  {
   "cell_type": "code",
   "execution_count": 4,
   "metadata": {
    "collapsed": false
   },
   "outputs": [
    {
     "name": "stdout",
     "output_type": "stream",
     "text": [
      "1.74722677692e-24\n"
     ]
    }
   ],
   "source": [
    "rhog0 = rho_g0(6) # g/cm3\n",
    "print rhog0"
   ]
  },
  {
   "cell_type": "markdown",
   "metadata": {
    "slideshow": {
     "slide_type": "slide"
    }
   },
   "source": [
    "## Computing the density profiles (Eq.1 & Eq.2)"
   ]
  },
  {
   "cell_type": "code",
   "execution_count": 5,
   "metadata": {
    "collapsed": false,
    "slideshow": {
     "slide_type": "fragment"
    }
   },
   "outputs": [
    {
     "data": {
      "text/plain": [
       "(1.3549129270145991e-25, 0.081005347725729995)"
      ]
     },
     "execution_count": 5,
     "metadata": {},
     "output_type": "execute_result"
    }
   ],
   "source": [
    "def rho_aprox(r, z):\n",
    "    c = 3.75\n",
    "    r_s = r_vir/c\n",
    "    return A*rho_g0(z)/(1 + ((r/r_s)*(1/0.22))**2)**(3*beta/2.)\n",
    "\n",
    "def rho(r, z):\n",
    "    c = 3.75\n",
    "    r_s = r_vir/c\n",
    "    mp =  1.67262158E-24\n",
    "    rrho = rho_g0(z) * e**(-27*b/2.) * (1 + (r/r_s))**(27*b/(2*r/r_s))\n",
    "    nh = rrho / mp \n",
    "    return rrho, nh \n",
    "rho(0.1, 2)"
   ]
  },
  {
   "cell_type": "markdown",
   "metadata": {
    "slideshow": {
     "slide_type": "slide"
    }
   },
   "source": [
    "#Mark's data"
   ]
  },
  {
   "cell_type": "code",
   "execution_count": 6,
   "metadata": {
    "collapsed": true
   },
   "outputs": [],
   "source": [
    "Mdensity = loadtxt(\"dim.out\")"
   ]
  },
  {
   "cell_type": "code",
   "execution_count": 7,
   "metadata": {
    "collapsed": false,
    "slideshow": {
     "slide_type": "-"
    }
   },
   "outputs": [],
   "source": [
    "Rho, nh = rho(Mdensity[:,0], 2)\n",
    "Rho_aprox = rho_aprox(Mdensity[:,0], 2)"
   ]
  },
  {
   "cell_type": "code",
   "execution_count": 8,
   "metadata": {
    "collapsed": false,
    "slideshow": {
     "slide_type": "slide"
    }
   },
   "outputs": [
    {
     "data": {
      "image/png": "[encoded data removed]",
      "text/plain": [
       "<matplotlib.figure.Figure at 0x7f844349c5d0>"
      ]
     },
     "metadata": {},
     "output_type": "display_data"
    }
   ],
   "source": [
    "#plot(Mdensity[:,0], Mdensity[:,1], ls='--', lw=3, c='r')# Mark's Data\n",
    "plot(Mdensity[:,0], Rho[:], c='k', lw=3, label=\"$\\mathrm{Exact\\ profle}$\") # rescaling\n",
    "plot(Mdensity[:,0], Rho_aprox[:], c='b', lw=3, label = \"$\\mathrm{Approximated\\ profile}$\")\n",
    "plot(Mdensity[:,0], Mdensity[:,1], c='r')\n",
    "legend(fontsize=15)\n",
    "ylabel(r\"$\\mathrm{Density(\\frac{g}{cm^{3}})}$\", fontsize=20)\n",
    "xlabel(r\"$\\mathrm{r(kpc)}$\", fontsize=20)\n",
    "savefig(\"gasprofile.png\", bbox_inches='tight')"
   ]
  },
  {
   "cell_type": "code",
   "execution_count": 9,
   "metadata": {
    "collapsed": false
   },
   "outputs": [
    {
     "data": {
      "image/png": "[encoded data removed]",
      "text/plain": [
       "<matplotlib.figure.Figure at 0x7f844349c050>"
      ]
     },
     "metadata": {},
     "output_type": "display_data"
    }
   ],
   "source": [
    "# Gas density profile in numbers of hydrogen atoms\n",
    "N = 100\n",
    "R = linspace(0.1, 4, N)\n",
    "Rhoo, nh= rho(R, 6)\n",
    "nh = nh\n",
    "plot(R, nh, c='k', lw=2, label=\"Exact profle\") # rescaling\n",
    "ylabel(r\"$\\mathrm{n_H(cm^{-3}})}$\", fontsize=20)\n",
    "xlabel(\"$\\mathrm{r(kpc)}$\", fontsize=20)\n",
    "savefig(\"nhvsr.png\", bbox_inches='tight')"
   ]
  },
  {
   "cell_type": "markdown",
   "metadata": {},
   "source": [
    "# Neutral Hydrogen density"
   ]
  },
  {
   "cell_type": "code",
   "execution_count": 10,
   "metadata": {
    "collapsed": true
   },
   "outputs": [],
   "source": [
    "def LamdaT(T): # cm3/s Equation A6, Rahmati et al 2013\n",
    "    return 1.17E-10 * T**(0.5) * exp(-157809/T) / ( 1 + sqrt(T/10**5))\n",
    "\n",
    "def alphaA(T): # cm3 / s Equation A3\n",
    "    l = 315614/T\n",
    "    return 1.269E-13 * l**(1.503) / ( 1 + (l/0.522)**(0.47) )**1.923 \n",
    "\n",
    "def Gammaphot(GammaUVB, nh, NHSSH):\n",
    "    Gammap =  GammaUVB * ( 0.98 *  (  1 + ( nh  / NHSSH )**(1.64) )**(-2.28) + 0.22 * ( 1 + nh  / NSSH)**(-0.84) )\n",
    "    return Gammap\n",
    "\n",
    "def ABC(T, G, nh, NSSH):\n",
    "    a_A = alphaA(T)\n",
    "    LT = LamdaT(T)\n",
    "    GPhot = Gammaphot(G, nh, NSSH)\n",
    "    A = a_A + LT\n",
    "    B = 2*a_A + GPhot / nh + LT\n",
    "    C = a_A\n",
    "    return A, B, C\n",
    "\n",
    "def Eta(A, B, C):\n",
    "    eta = ( B - sqrt(B**2 - 4*A*C) ) / (2*A)\n",
    "    return eta \n",
    "\n",
    "def tvir(M, z):\n",
    "    T = 2554 * ( M / 1E6)**(2/3.) * ( (1 + z) / 31.0 )\n",
    "    return T"
   ]
  },
  {
   "cell_type": "code",
   "execution_count": 11,
   "metadata": {
    "collapsed": false
   },
   "outputs": [
    {
     "name": "stdout",
     "output_type": "stream",
     "text": [
      " ---------- Parameters -----------\n",
      "z =  6\n",
      "Halo mass =  100000000.0\n",
      "NSSh =  0.004\n",
      "Gamma_UVB =  4.5e-13\n",
      "----------------------------------\n"
     ]
    }
   ],
   "source": [
    "z = 6\n",
    "M = 1E8\n",
    "T = tvir(M, z)\n",
    "NSSH = 4.0E-3 # See table 2 of Rahmati et al 2013\n",
    "GUVB = 4.5E-13 # See table 2 of Rahmati et al 2013\n",
    "\n",
    "print \" ---------- Parameters -----------\"\n",
    "print \"z = \", z\n",
    "print \"Halo mass = \", M\n",
    "print \"NSSh = \", NSSH\n",
    "print \"Gamma_UVB = \", GUVB\n",
    "print \"----------------------------------\""
   ]
  },
  {
   "cell_type": "code",
   "execution_count": 12,
   "metadata": {
    "collapsed": false
   },
   "outputs": [],
   "source": [
    "A = zeros(N)\n",
    "B = zeros(N)\n",
    "C = zeros(N)\n",
    "E = zeros(N)\n",
    "for i in range(N):\n",
    "    A[i], B[i], C[i] = ABC(T, GUVB, nh[i], NSSH )\n",
    "    E[i] = Eta(A[i], B[i], C[i])"
   ]
  },
  {
   "cell_type": "code",
   "execution_count": 13,
   "metadata": {
    "collapsed": false
   },
   "outputs": [
    {
     "data": {
      "image/png": "[encoded data removed]",
      "text/plain": [
       "<matplotlib.figure.Figure at 0x7f84434d58d0>"
      ]
     },
     "metadata": {},
     "output_type": "display_data"
    }
   ],
   "source": [
    "plot(R, log10(E), c='k', lw=2)\n",
    "xlabel(\"$\\mathrm{r(kpc)}$\", fontsize=25)\n",
    "ylabel(\"$\\mathrm{Log_{10}[\\eta]}$\", fontsize=25)\n",
    "savefig(\"etavsr\", bbox_inches='tight')"
   ]
  },
  {
   "cell_type": "code",
   "execution_count": 14,
   "metadata": {
    "collapsed": false
   },
   "outputs": [
    {
     "data": {
      "image/png": "[encoded data removed]",
      "text/plain": [
       "<matplotlib.figure.Figure at 0x7f84431bbf50>"
      ]
     },
     "metadata": {},
     "output_type": "display_data"
    }
   ],
   "source": [
    "plot(R, log10(E*nh), c='k', lw=2)\n",
    "xlabel(\"$\\mathrm{r(kpc)}$\", fontsize=25)\n",
    "ylabel(\"$\\mathrm{Log_{10}[n_{HI}(cm^{-3}})]$\", fontsize=25)\n",
    "savefig(\"nhivsr\", bbox_inches='tight')"
   ]
  },
  {
   "cell_type": "markdown",
   "metadata": {
    "collapsed": true
   },
   "source": [
    "# Column Density Derivation"
   ]
  },
  {
   "cell_type": "markdown",
   "metadata": {},
   "source": [
    "Column density for a given impact parameter $b$ and a given halo mass $M_h$:\n",
    "$N_HI(b, M_H) = \\int \\limits_b^{\\infty} \\rho_{g}(r) =  \\int \\limits_b^{\\infty} \\dfrac{\\rho_{g0 A(b)}}{[1+(r/r_{c,eff})^2]^{3\\beta_{eff}/2}} = \\rho_{g0} A(b) \\dfrac{\\sqrt{\\pi} (\\dfrac{1}{r_c(M_h)^2})^{-3\\beta(M_h) /2} (b^2 + r_c(M_h)^2)^{1/2 - 2\\beta(M_h)/2} \\Gamma(-1/2 + 3\\beta/2) }{2 \\Gamma(\\dfrac{3\\beta(M_h)}{2})}  $ \n",
    "\n",
    "$b$ impact parameter\n"
   ]
  },
  {
   "cell_type": "markdown",
   "metadata": {},
   "source": [
    "Average column density "
   ]
  },
  {
   "cell_type": "markdown",
   "metadata": {},
   "source": [
    "$ <N_H>  =  4 \\int \\limits_0^{0.5} dx \\int \\limits_0^{0.5} dy \\int \\limits_{M_{min}}^{M_{max}} N_{HI}(b, M_H) \\xi(M_H) dM_H  $ "
   ]
  },
  {
   "cell_type": "code",
   "execution_count": 219,
   "metadata": {
    "collapsed": false
   },
   "outputs": [],
   "source": [
    "def stmf(z, minm, maxm, nm):\n",
    "    os.system(\"./stmf/stmf %d %d %d %d\"%(z,minm, maxm,nm))\n",
    "    stmf_data = loadtxt(\"stmf_LF.dat\", skiprows=1)\n",
    "    M2 = stmf_data[:,0]\n",
    "    mdndm2 = stmf_data[:,1]\n",
    "    cum_nh = stmf_data[:,2]\n",
    "    return M2, mdndm2"
   ]
  },
  {
   "cell_type": "code",
   "execution_count": 220,
   "metadata": {
    "collapsed": true
   },
   "outputs": [],
   "source": [
    "def rvir(Mass, z): # THIS MASS IS IN Msun\n",
    "    os.system(\"./rvirmod/a.out %d %d > rvir.txt\"%(Mass, z))\n",
    "    data = loadtxt(\"rvir.txt\")\n",
    "    rvir = data[0]\n",
    "    return rvir"
   ]
  },
  {
   "cell_type": "code",
   "execution_count": 223,
   "metadata": {
    "collapsed": false
   },
   "outputs": [],
   "source": [
    "def nh(M, x, y):\n",
    "    z = 6\n",
    "    minm = M\n",
    "    maxm = M\n",
    "    nm = 2\n",
    "    b, A, c = constants()\n",
    "    M1, mdndm = stmf(z, minm, maxm, nm)\n",
    "    beta = 0.9*b\n",
    "    rvir1 = rvir(M, z)\n",
    "    r_s = rvir1 / c \n",
    "    NH = (sqrt(pi)*(1/r_s**2)**(-3*beta/2.) * ((x**2  + y**2)+ r_s**2)**(1/2. - 3*beta/2.) * gamma(-0.5 + 3*beta/2.) )/(2*gamma(3*beta/2.))\n",
    "    #print M1, beta, rvir1, r_s, NH\n",
    "    return 4*NH*mdndm/M1"
   ]
  },
  {
   "cell_type": "markdown",
   "metadata": {},
   "source": [
    "In order to compute the integral of the average column density we first make the integral over the mass\n",
    "using the trapezoid method.\n",
    "\n",
    "This is: \n",
    "\n",
    "$\\int \\limits_{M_{HMin}}^{M_{HMax}} N_H(b, M_H)\\xi(M_H)dM_H =  (M_{HMax} - M_{HMin}) \\left[ \\dfrac{N_H(b, M_{Hmax}) \\xi(M_{HMax}) + N_H(b, M_{HMin}\\xi(M_{Hmin}))}{2}\\right]$\n",
    "\n",
    "with $M_{HMax} = 10^{12} M_{\\odot}$ and $M_{HMin} = 10^4 M_{\\odot}$\n",
    "\n",
    "$\\int \\limits_{M_{HMin}}^{M_{HMax}} N_H(b, M_H)\\xi(M_H)dM_H = 10^{12} M_{\\odot}  \\dfrac{\\rho_{g0} A(b) \\sqrt{\\pi} \\Gamma(-\\dfrac{1}{2} + \\dfrac{3\\beta}{2})}{4\\Gamma{\\dfrac{3\\beta}{2}}}\\left[ \\left( \\dfrac{1}{r_c(M_{HMin})^2} \\right)^{-3\\beta/2} (b^2 + r_c(M_{Hmin})^2)^{1/2 - 3\\beta/2} \\xi(M_{Hmax})+  \\left( \\dfrac{1}{r_c(M_{HMax})^2} \\right)^{-3\\beta/2} (b^2 + r_c(M_{Hmax})^2)^{1/2 - 3\\beta/2}\\xi(M_{Hmin}) \\right] $"
   ]
  },
  {
   "cell_type": "code",
   "execution_count": 224,
   "metadata": {
    "collapsed": false
   },
   "outputs": [
    {
     "name": "stdout",
     "output_type": "stream",
     "text": [
      "999\n",
      "10000.0\n"
     ]
    }
   ],
   "source": [
    "# Run this before compute the avergae column density\n",
    "M, mdnm = stmf(6, 4, 12, 1000)\n",
    "print len(M)\n",
    "Rvir = zeros(999)\n",
    "for i in range(999):\n",
    "    Rvir[i] = rvir(M[i], 6)\n",
    "print min(M)"
   ]
  },
  {
   "cell_type": "code",
   "execution_count": 225,
   "metadata": {
    "collapsed": false
   },
   "outputs": [],
   "source": [
    "def hm(x, y):\n",
    "    beta = 0.7 * 0.9\n",
    "    factor = sqrt(pi)*gamma(-0.5 + 3*beta/2.0) / (2*gamma(3*beta/2.))\n",
    "    HN = zeros(1000)\n",
    "    for i in range (998):\n",
    "        xi_min = mdnm[i]/M[i]\n",
    "        xi_max = mdnm[i+1]/M[i+1]\n",
    "        DM = M[i+1] - M[i]\n",
    "        rs_min = Rvir[i] / 3.75 \n",
    "        rs_max = Rvir[i+1] / 3.75\n",
    "        #print xi_min, xi_max, DM, rs_min, rs_max\n",
    "        HN[i] = 0.5 * abs(DM) * factor * ( (1 / rs_min**2)**(-3*beta/2.0) * ((x**2 + y**2) + rs_min**2)**(0.5 - 3*beta/2.0 )*xi_min +\n",
    "                              (1/rs_max**2)**(-3*beta/2.0) * ((x**2+y**2) + rs_max**2)**(0.5 - 3*beta/2.)*xi_max )\n",
    "        #print HN[i]\n",
    "        \n",
    "    return sum(HN)"
   ]
  },
  {
   "cell_type": "code",
   "execution_count": 226,
   "metadata": {
    "collapsed": false
   },
   "outputs": [
    {
     "data": {
      "text/plain": [
       "273.90990132276022"
      ]
     },
     "execution_count": 226,
     "metadata": {},
     "output_type": "execute_result"
    }
   ],
   "source": [
    "hm(0.5, 0.5)"
   ]
  },
  {
   "cell_type": "code",
   "execution_count": 105,
   "metadata": {
    "collapsed": false
   },
   "outputs": [
    {
     "data": {
      "text/plain": [
       "273.90990132276022"
      ]
     },
     "execution_count": 105,
     "metadata": {},
     "output_type": "execute_result"
    }
   ],
   "source": [
    "hm(0.5, 0.5)"
   ]
  },
  {
   "cell_type": "code",
   "execution_count": 230,
   "metadata": {
    "collapsed": false
   },
   "outputs": [],
   "source": [
    "def mass_convergence(Mmin):\n",
    "    global M\n",
    "    global mdnm\n",
    "    M, mdnm = stmf(6, Mmin, 12, 1000)\n",
    "    print min(M)\n",
    "    Rvir = zeros(999)\n",
    "    for i in range(999):\n",
    "        Rvir[i] = rvir(M[i], 6)\n",
    "    Test = hm(0.5, 0.5)\n",
    "    #print Test\n",
    "    NH = integrate.dblquad(hm,0, 0.5, lambda x:0, lambda x:0.5, epsabs=0.001, epsrel=0.001)\n",
    "    #print NH\n",
    "    rhog0 = rho_g0(6)\n",
    "    b = 0.7\n",
    "    A = -0.178*b + 0.982\n",
    "    NHmean = NH[0]*rhog0*A*4\n",
    "    mp =  1.67262158E-24\n",
    "    nhmean = NHmean / mp\n",
    "    return NHmean, NH, nhmean"
   ]
  },
  {
   "cell_type": "code",
   "execution_count": 18,
   "metadata": {
    "collapsed": false
   },
   "outputs": [],
   "source": [
    "def check(M_min):\n",
    "    MM, mdnm2 = stmf(6, M_min, 12, 1000)\n",
    "    y = mdnm2\n",
    "    I = zeros(1000)\n",
    "    for i in range(len(MM)-1):\n",
    "        y = mdnm2[i] \n",
    "        dx = MM[i+1] - MM[i]\n",
    "        I[i] = abs(dx * y)\n",
    "    return sum(I)"
   ]
  },
  {
   "cell_type": "code",
   "execution_count": 19,
   "metadata": {
    "collapsed": false
   },
   "outputs": [],
   "source": [
    "MM = linspace(2, 14, 13)\n",
    "mdnmM = zeros(13)\n",
    "for i in range(13):\n",
    "    mdnmM[i] = check(MM[i])"
   ]
  },
  {
   "cell_type": "code",
   "execution_count": 23,
   "metadata": {
    "collapsed": false
   },
   "outputs": [
    {
     "data": {
      "image/png": "[encoded data removed]",
      "text/plain": [
       "<matplotlib.figure.Figure at 0x7fb8a160e9d0>"
      ]
     },
     "metadata": {},
     "output_type": "display_data"
    }
   ],
   "source": [
    "MD = zeros(13)\n",
    "for i in range(13):\n",
    "    MD[i] = sum(mdnmM[i:]) \n",
    "#plot(MM, mdnmM)\n",
    "figure(figsize=(8, 6))\n",
    "plot(MM, mdnmM, c='k', lw=2.5)\n",
    "xlabel(\"$\\mathrm{Log(M_{min}) (M_{\\odot})}$\", fontsize=25)\n",
    "ylabel(r\"$\\mathrm{\\frac{dn}{dM} M(>M_{min})}$\", fontsize=25)\n",
    "savefig(\"cumulativehm.png\")"
   ]
  }
 ],
 "metadata": {
  "celltoolbar": "Slideshow",
  "kernelspec": {
   "display_name": "Python 2",
   "language": "python",
   "name": "python2"
  },
  "language_info": {
   "codemirror_mode": {
    "name": "ipython",
    "version": 2
   },
   "file_extension": ".py",
   "mimetype": "text/x-python",
   "name": "python",
   "nbconvert_exporter": "python",
   "pygments_lexer": "ipython2",
   "version": "2.7.6"
  }
 },
 "nbformat": 4,
 "nbformat_minor": 0
}
